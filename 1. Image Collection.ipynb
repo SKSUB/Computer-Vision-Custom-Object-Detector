{
 "cells": [
  {
   "cell_type": "markdown",
   "metadata": {},
   "source": [
    "# 1. Import Dependencies"
   ]
  },
  {
   "cell_type": "code",
   "execution_count": 1,
   "metadata": {},
   "outputs": [
    {
     "name": "stdout",
     "output_type": "stream",
     "text": [
      "Requirement already satisfied: opencv-python in c:\\tensorflow\\tfodcourse-main\\tfod\\lib\\site-packages (4.5.5.62)\n",
      "Requirement already satisfied: numpy>=1.17.3 in c:\\tensorflow\\tfodcourse-main\\tfod\\lib\\site-packages (from opencv-python) (1.22.2)\n"
     ]
    }
   ],
   "source": [
    "!pip install opencv-python"
   ]
  },
  {
   "cell_type": "code",
   "execution_count": 2,
   "metadata": {},
   "outputs": [],
   "source": [
    "# Import opencv\n",
    "import cv2 \n",
    "\n",
    "# Import uuid\n",
    "import uuid\n",
    "\n",
    "# Import Operating System\n",
    "import os\n",
    "\n",
    "# Import time\n",
    "import time"
   ]
  },
  {
   "cell_type": "markdown",
   "metadata": {},
   "source": [
    "# 2. Define Images to Collect"
   ]
  },
  {
   "cell_type": "code",
   "execution_count": 3,
   "metadata": {},
   "outputs": [],
   "source": [
    "labels = ['mouse', 'monitor', 'keyboard', 'cpu']"
   ]
  },
  {
   "cell_type": "markdown",
   "metadata": {},
   "source": [
    "# 3. Setup Folders "
   ]
  },
  {
   "cell_type": "code",
   "execution_count": 4,
   "metadata": {},
   "outputs": [],
   "source": [
    "IMAGES_PATH = os.path.join('Tensorflow', 'workspace', 'images', 'collectedimages')"
   ]
  },
  {
   "cell_type": "code",
   "execution_count": 5,
   "metadata": {},
   "outputs": [],
   "source": [
    "if not os.path.exists(IMAGES_PATH):\n",
    "    if os.name == 'posix':\n",
    "        !mkdir -p {IMAGES_PATH}\n",
    "    if os.name == 'nt':\n",
    "         !mkdir {IMAGES_PATH}\n",
    "for label in labels:\n",
    "    path = os.path.join(IMAGES_PATH, label)\n",
    "    if not os.path.exists(path):\n",
    "        !mkdir {path}"
   ]
  },
  {
   "cell_type": "markdown",
   "metadata": {},
   "source": [
    "# 4. Image Labelling"
   ]
  },
  {
   "cell_type": "code",
   "execution_count": 6,
   "metadata": {},
   "outputs": [
    {
     "name": "stdout",
     "output_type": "stream",
     "text": [
      "Requirement already satisfied: pyqt5 in c:\\tensorflow\\tfodcourse-main\\tfod\\lib\\site-packages (5.15.6)\n",
      "Requirement already satisfied: lxml in c:\\tensorflow\\tfodcourse-main\\tfod\\lib\\site-packages (4.7.1)\n",
      "Requirement already satisfied: PyQt5-Qt5>=5.15.2 in c:\\tensorflow\\tfodcourse-main\\tfod\\lib\\site-packages (from pyqt5) (5.15.2)\n",
      "Requirement already satisfied: PyQt5-sip<13,>=12.8 in c:\\tensorflow\\tfodcourse-main\\tfod\\lib\\site-packages (from pyqt5) (12.9.1)\n"
     ]
    }
   ],
   "source": [
    "!pip install --upgrade pyqt5 lxml"
   ]
  },
  {
   "cell_type": "code",
   "execution_count": 7,
   "metadata": {},
   "outputs": [],
   "source": [
    "LABELIMG_PATH = os.path.join('Tensorflow', 'labelimg')"
   ]
  },
  {
   "cell_type": "code",
   "execution_count": 8,
   "metadata": {},
   "outputs": [],
   "source": [
    "if not os.path.exists(LABELIMG_PATH):\n",
    "    !mkdir {LABELIMG_PATH}\n",
    "    !git clone https://github.com/tzutalin/labelImg {LABELIMG_PATH}"
   ]
  },
  {
   "cell_type": "code",
   "execution_count": 9,
   "metadata": {},
   "outputs": [],
   "source": [
    "if os.name == 'posix':\n",
    "    !make qt5py3\n",
    "if os.name =='nt':\n",
    "    !cd {LABELIMG_PATH} && pyrcc5 -o libs/resources.py resources.qrc"
   ]
  },
  {
   "cell_type": "code",
   "execution_count": 10,
   "metadata": {},
   "outputs": [
    {
     "name": "stdout",
     "output_type": "stream",
     "text": [
      "Image:C:\\tensorflow\\TFODCourse-main\\Tensorflow\\workspace\\images\\collectedimages\\cpu\\cpu 11.jpg -> Annotation:C:/tensorflow/TFODCourse-main/Tensorflow/workspace/images/collectedimages/cpu/cpu 11.xml\n",
      "Image:C:\\tensorflow\\TFODCourse-main\\Tensorflow\\workspace\\images\\collectedimages\\cpu\\cpu 12.jpg -> Annotation:C:/tensorflow/TFODCourse-main/Tensorflow/workspace/images/collectedimages/cpu/cpu 12.xml\n",
      "Cancel creation.\n",
      "Image:C:\\tensorflow\\TFODCourse-main\\Tensorflow\\workspace\\images\\collectedimages\\cpu\\cpu 13.jpg -> Annotation:C:/tensorflow/TFODCourse-main/Tensorflow/workspace/images/collectedimages/cpu/cpu 13.xml\n",
      "Image:C:\\tensorflow\\TFODCourse-main\\Tensorflow\\workspace\\images\\collectedimages\\cpu\\cpu 14.jpg -> Annotation:C:/tensorflow/TFODCourse-main/Tensorflow/workspace/images/collectedimages/cpu/cpu 14.xml\n",
      "Image:C:\\tensorflow\\TFODCourse-main\\Tensorflow\\workspace\\images\\collectedimages\\cpu\\cpu 15.jpg -> Annotation:C:/tensorflow/TFODCourse-main/Tensorflow/workspace/images/collectedimages/cpu/cpu 15.xml\n",
      "Image:C:\\tensorflow\\TFODCourse-main\\Tensorflow\\workspace\\images\\collectedimages\\cpu\\cpu (1).jpg -> Annotation:C:/tensorflow/TFODCourse-main/Tensorflow/workspace/images/collectedimages/cpu/cpu (1).xml\n",
      "Image:C:\\tensorflow\\TFODCourse-main\\Tensorflow\\workspace\\images\\collectedimages\\cpu\\cpu (2).jpg -> Annotation:C:/tensorflow/TFODCourse-main/Tensorflow/workspace/images/collectedimages/cpu/cpu (2).xml\n",
      "Image:C:\\tensorflow\\TFODCourse-main\\Tensorflow\\workspace\\images\\collectedimages\\cpu\\cpu (3).jpg -> Annotation:C:/tensorflow/TFODCourse-main/Tensorflow/workspace/images/collectedimages/cpu/cpu (3).xml\n",
      "Image:C:\\tensorflow\\TFODCourse-main\\Tensorflow\\workspace\\images\\collectedimages\\cpu\\cpu (4).jpg -> Annotation:C:/tensorflow/TFODCourse-main/Tensorflow/workspace/images/collectedimages/cpu/cpu (4).xml\n",
      "Image:C:\\tensorflow\\TFODCourse-main\\Tensorflow\\workspace\\images\\collectedimages\\cpu\\cpu (5).jpg -> Annotation:C:/tensorflow/TFODCourse-main/Tensorflow/workspace/images/collectedimages/cpu/cpu (5).xml\n",
      "Image:C:\\tensorflow\\TFODCourse-main\\Tensorflow\\workspace\\images\\collectedimages\\cpu\\cpu (6).jpg -> Annotation:C:/tensorflow/TFODCourse-main/Tensorflow/workspace/images/collectedimages/cpu/cpu (6).xml\n",
      "Image:C:\\tensorflow\\TFODCourse-main\\Tensorflow\\workspace\\images\\collectedimages\\cpu\\cpu (7).jpg -> Annotation:C:/tensorflow/TFODCourse-main/Tensorflow/workspace/images/collectedimages/cpu/cpu (7).xml\n",
      "Image:C:\\tensorflow\\TFODCourse-main\\Tensorflow\\workspace\\images\\collectedimages\\cpu\\cpu (8).jpg -> Annotation:C:/tensorflow/TFODCourse-main/Tensorflow/workspace/images/collectedimages/cpu/cpu (8).xml\n",
      "Image:C:\\tensorflow\\TFODCourse-main\\Tensorflow\\workspace\\images\\collectedimages\\cpu\\cpu (9).jpg -> Annotation:C:/tensorflow/TFODCourse-main/Tensorflow/workspace/images/collectedimages/cpu/cpu (9).xml\n",
      "Image:C:\\tensorflow\\TFODCourse-main\\Tensorflow\\workspace\\images\\collectedimages\\cpu\\cpu (10).jpg -> Annotation:C:/tensorflow/TFODCourse-main/Tensorflow/workspace/images/collectedimages/cpu/cpu (10).xml\n",
      "Image:C:\\tensorflow\\TFODCourse-main\\Tensorflow\\workspace\\images\\collectedimages\\keyboard\\keyboard 11.jpg -> Annotation:C:/tensorflow/TFODCourse-main/Tensorflow/workspace/images/collectedimages/keyboard/keyboard 11.xml\n",
      "Image:C:\\tensorflow\\TFODCourse-main\\Tensorflow\\workspace\\images\\collectedimages\\keyboard\\keyboard 12.jpg -> Annotation:C:/tensorflow/TFODCourse-main/Tensorflow/workspace/images/collectedimages/keyboard/keyboard 12.xml"
     ]
    },
    {
     "name": "stderr",
     "output_type": "stream",
     "text": [
      "qt.gui.icc: fromIccProfile: failed minimal tag size sanity\n",
      "qt.gui.icc: fromIccProfile: failed minimal tag size sanity\n",
      "qt.gui.icc: fromIccProfile: failed minimal tag size sanity\n",
      "qt.gui.icc: Unsupported ICC profile class 73636e72\n",
      "qt.gui.icc: fromIccProfile: failed minimal tag size sanity\n",
      "qt.gui.icc: fromIccProfile: failed minimal tag size sanity\n",
      "qt.gui.icc: fromIccProfile: failed minimal tag size sanity\n"
     ]
    },
    {
     "name": "stdout",
     "output_type": "stream",
     "text": [
      "\n",
      "Image:C:\\tensorflow\\TFODCourse-main\\Tensorflow\\workspace\\images\\collectedimages\\keyboard\\keyboard 13.jpg -> Annotation:C:/tensorflow/TFODCourse-main/Tensorflow/workspace/images/collectedimages/keyboard/keyboard 13.xml\n",
      "Cancel creation.\n",
      "Image:C:\\tensorflow\\TFODCourse-main\\Tensorflow\\workspace\\images\\collectedimages\\keyboard\\keyboard 14.jpg -> Annotation:C:/tensorflow/TFODCourse-main/Tensorflow/workspace/images/collectedimages/keyboard/keyboard 14.xml\n",
      "Image:C:\\tensorflow\\TFODCourse-main\\Tensorflow\\workspace\\images\\collectedimages\\keyboard\\keyboard 15.jpg -> Annotation:C:/tensorflow/TFODCourse-main/Tensorflow/workspace/images/collectedimages/keyboard/keyboard 15.xml\n",
      "Image:C:\\tensorflow\\TFODCourse-main\\Tensorflow\\workspace\\images\\collectedimages\\keyboard\\keyboard (1).jpg -> Annotation:C:/tensorflow/TFODCourse-main/Tensorflow/workspace/images/collectedimages/keyboard/keyboard (1).xml\n",
      "Image:C:\\tensorflow\\TFODCourse-main\\Tensorflow\\workspace\\images\\collectedimages\\keyboard\\keyboard (2).jpg -> Annotation:C:/tensorflow/TFODCourse-main/Tensorflow/workspace/images/collectedimages/keyboard/keyboard (2).xml\n",
      "Image:C:\\tensorflow\\TFODCourse-main\\Tensorflow\\workspace\\images\\collectedimages\\keyboard\\keyboard (3).jpg -> Annotation:C:/tensorflow/TFODCourse-main/Tensorflow/workspace/images/collectedimages/keyboard/keyboard (3).xml\n",
      "Image:C:\\tensorflow\\TFODCourse-main\\Tensorflow\\workspace\\images\\collectedimages\\keyboard\\keyboard (4).jpg -> Annotation:C:/tensorflow/TFODCourse-main/Tensorflow/workspace/images/collectedimages/keyboard/keyboard (4).xml\n",
      "Image:C:\\tensorflow\\TFODCourse-main\\Tensorflow\\workspace\\images\\collectedimages\\keyboard\\keyboard (5).jpg -> Annotation:C:/tensorflow/TFODCourse-main/Tensorflow/workspace/images/collectedimages/keyboard/keyboard (5).xml\n",
      "Image:C:\\tensorflow\\TFODCourse-main\\Tensorflow\\workspace\\images\\collectedimages\\keyboard\\keyboard (6).jpg -> Annotation:C:/tensorflow/TFODCourse-main/Tensorflow/workspace/images/collectedimages/keyboard/keyboard (6).xml\n",
      "Image:C:\\tensorflow\\TFODCourse-main\\Tensorflow\\workspace\\images\\collectedimages\\keyboard\\keyboard (7).jpg -> Annotation:C:/tensorflow/TFODCourse-main/Tensorflow/workspace/images/collectedimages/keyboard/keyboard (7).xml\n",
      "Image:C:\\tensorflow\\TFODCourse-main\\Tensorflow\\workspace\\images\\collectedimages\\keyboard\\keyboard (8).jpg -> Annotation:C:/tensorflow/TFODCourse-main/Tensorflow/workspace/images/collectedimages/keyboard/keyboard (8).xml\n",
      "Image:C:\\tensorflow\\TFODCourse-main\\Tensorflow\\workspace\\images\\collectedimages\\keyboard\\keyboard (9).jpg -> Annotation:C:/tensorflow/TFODCourse-main/Tensorflow/workspace/images/collectedimages/keyboard/keyboard (9).xml\n",
      "Image:C:\\tensorflow\\TFODCourse-main\\Tensorflow\\workspace\\images\\collectedimages\\keyboard\\keyboard (10).jpg -> Annotation:C:/tensorflow/TFODCourse-main/Tensorflow/workspace/images/collectedimages/keyboard/keyboard (10).xml\n",
      "Image:C:\\tensorflow\\TFODCourse-main\\Tensorflow\\workspace\\images\\collectedimages\\monitor\\monitor 11.jpg -> Annotation:C:/tensorflow/TFODCourse-main/Tensorflow/workspace/images/collectedimages/monitor/monitor 11.xml\n",
      "Image:C:\\tensorflow\\TFODCourse-main\\Tensorflow\\workspace\\images\\collectedimages\\monitor\\monitor 12.jpg -> Annotation:C:/tensorflow/TFODCourse-main/Tensorflow/workspace/images/collectedimages/monitor/monitor 12.xml\n",
      "Image:C:\\tensorflow\\TFODCourse-main\\Tensorflow\\workspace\\images\\collectedimages\\monitor\\monitor 13.jpg -> Annotation:C:/tensorflow/TFODCourse-main/Tensorflow/workspace/images/collectedimages/monitor/monitor 13.xml\n",
      "Image:C:\\tensorflow\\TFODCourse-main\\Tensorflow\\workspace\\images\\collectedimages\\monitor\\monitor 14.jpg -> Annotation:C:/tensorflow/TFODCourse-main/Tensorflow/workspace/images/collectedimages/monitor/monitor 14.xml\n",
      "Image:C:\\tensorflow\\TFODCourse-main\\Tensorflow\\workspace\\images\\collectedimages\\monitor\\monitor 15.jpg -> Annotation:C:/tensorflow/TFODCourse-main/Tensorflow/workspace/images/collectedimages/monitor/monitor 15.xml\n",
      "Image:C:\\tensorflow\\TFODCourse-main\\Tensorflow\\workspace\\images\\collectedimages\\monitor\\monitor (1).jpg -> Annotation:C:/tensorflow/TFODCourse-main/Tensorflow/workspace/images/collectedimages/monitor/monitor (1).xml\n",
      "Image:C:\\tensorflow\\TFODCourse-main\\Tensorflow\\workspace\\images\\collectedimages\\monitor\\monitor (2).jpg -> Annotation:C:/tensorflow/TFODCourse-main/Tensorflow/workspace/images/collectedimages/monitor/monitor (2).xml\n",
      "Image:C:\\tensorflow\\TFODCourse-main\\Tensorflow\\workspace\\images\\collectedimages\\monitor\\monitor (3).jpg -> Annotation:C:/tensorflow/TFODCourse-main/Tensorflow/workspace/images/collectedimages/monitor/monitor (3).xml\n",
      "Image:C:\\tensorflow\\TFODCourse-main\\Tensorflow\\workspace\\images\\collectedimages\\monitor\\monitor (4).jpg -> Annotation:C:/tensorflow/TFODCourse-main/Tensorflow/workspace/images/collectedimages/monitor/monitor (4).xml\n",
      "Image:C:\\tensorflow\\TFODCourse-main\\Tensorflow\\workspace\\images\\collectedimages\\monitor\\monitor (5).jpg -> Annotation:C:/tensorflow/TFODCourse-main/Tensorflow/workspace/images/collectedimages/monitor/monitor (5).xml\n",
      "Image:C:\\tensorflow\\TFODCourse-main\\Tensorflow\\workspace\\images\\collectedimages\\monitor\\monitor (6).jpg -> Annotation:C:/tensorflow/TFODCourse-main/Tensorflow/workspace/images/collectedimages/monitor/monitor (6).xml\n",
      "Image:C:\\tensorflow\\TFODCourse-main\\Tensorflow\\workspace\\images\\collectedimages\\monitor\\monitor (7).jpg -> Annotation:C:/tensorflow/TFODCourse-main/Tensorflow/workspace/images/collectedimages/monitor/monitor (7).xml\n",
      "Image:C:\\tensorflow\\TFODCourse-main\\Tensorflow\\workspace\\images\\collectedimages\\monitor\\monitor (8).jpg -> Annotation:C:/tensorflow/TFODCourse-main/Tensorflow/workspace/images/collectedimages/monitor/monitor (8).xml\n",
      "Image:C:\\tensorflow\\TFODCourse-main\\Tensorflow\\workspace\\images\\collectedimages\\monitor\\monitor (9).jpg -> Annotation:C:/tensorflow/TFODCourse-main/Tensorflow/workspace/images/collectedimages/monitor/monitor (9).xml\n",
      "Image:C:\\tensorflow\\TFODCourse-main\\Tensorflow\\workspace\\images\\collectedimages\\monitor\\monitor (10).jpg -> Annotation:C:/tensorflow/TFODCourse-main/Tensorflow/workspace/images/collectedimages/monitor/monitor (10).xml\n",
      "Image:C:\\tensorflow\\TFODCourse-main\\Tensorflow\\workspace\\images\\collectedimages\\mouse\\mouse 11.jpg -> Annotation:C:/tensorflow/TFODCourse-main/Tensorflow/workspace/images/collectedimages/mouse/mouse 11.xml\n",
      "Image:C:\\tensorflow\\TFODCourse-main\\Tensorflow\\workspace\\images\\collectedimages\\mouse\\mouse 12.jpg -> Annotation:C:/tensorflow/TFODCourse-main/Tensorflow/workspace/images/collectedimages/mouse/mouse 12.xml\n",
      "Image:C:\\tensorflow\\TFODCourse-main\\Tensorflow\\workspace\\images\\collectedimages\\mouse\\mouse 13.jpg -> Annotation:C:/tensorflow/TFODCourse-main/Tensorflow/workspace/images/collectedimages/mouse/mouse 13.xml\n",
      "Image:C:\\tensorflow\\TFODCourse-main\\Tensorflow\\workspace\\images\\collectedimages\\mouse\\mouse 14.jpg -> Annotation:C:/tensorflow/TFODCourse-main/Tensorflow/workspace/images/collectedimages/mouse/mouse 14.xml\n",
      "Image:C:\\tensorflow\\TFODCourse-main\\Tensorflow\\workspace\\images\\collectedimages\\mouse\\mouse 15.jpg -> Annotation:C:/tensorflow/TFODCourse-main/Tensorflow/workspace/images/collectedimages/mouse/mouse 15.xml\n",
      "Image:C:\\tensorflow\\TFODCourse-main\\Tensorflow\\workspace\\images\\collectedimages\\mouse\\mouse (1).jpg -> Annotation:C:/tensorflow/TFODCourse-main/Tensorflow/workspace/images/collectedimages/mouse/mouse (1).xml\n",
      "Image:C:\\tensorflow\\TFODCourse-main\\Tensorflow\\workspace\\images\\collectedimages\\mouse\\mouse (2).jpg -> Annotation:C:/tensorflow/TFODCourse-main/Tensorflow/workspace/images/collectedimages/mouse/mouse (2).xml\n",
      "Image:C:\\tensorflow\\TFODCourse-main\\Tensorflow\\workspace\\images\\collectedimages\\mouse\\mouse (3).jpg -> Annotation:C:/tensorflow/TFODCourse-main/Tensorflow/workspace/images/collectedimages/mouse/mouse (3).xml\n",
      "Image:C:\\tensorflow\\TFODCourse-main\\Tensorflow\\workspace\\images\\collectedimages\\mouse\\mouse (4).jpg -> Annotation:C:/tensorflow/TFODCourse-main/Tensorflow/workspace/images/collectedimages/mouse/mouse (4).xml\n",
      "Image:C:\\tensorflow\\TFODCourse-main\\Tensorflow\\workspace\\images\\collectedimages\\mouse\\mouse (5).jpg -> Annotation:C:/tensorflow/TFODCourse-main/Tensorflow/workspace/images/collectedimages/mouse/mouse (5).xml\n",
      "Image:C:\\tensorflow\\TFODCourse-main\\Tensorflow\\workspace\\images\\collectedimages\\mouse\\mouse (6).jpg -> Annotation:C:/tensorflow/TFODCourse-main/Tensorflow/workspace/images/collectedimages/mouse/mouse (6).xml\n",
      "Image:C:\\tensorflow\\TFODCourse-main\\Tensorflow\\workspace\\images\\collectedimages\\mouse\\mouse (7).jpg -> Annotation:C:/tensorflow/TFODCourse-main/Tensorflow/workspace/images/collectedimages/mouse/mouse (7).xml\n",
      "Image:C:\\tensorflow\\TFODCourse-main\\Tensorflow\\workspace\\images\\collectedimages\\mouse\\mouse (8).jpg -> Annotation:C:/tensorflow/TFODCourse-main/Tensorflow/workspace/images/collectedimages/mouse/mouse (8).xml\n",
      "Image:C:\\tensorflow\\TFODCourse-main\\Tensorflow\\workspace\\images\\collectedimages\\mouse\\mouse (9).jpg -> Annotation:C:/tensorflow/TFODCourse-main/Tensorflow/workspace/images/collectedimages/mouse/mouse (9).xml\n",
      "Image:C:\\tensorflow\\TFODCourse-main\\Tensorflow\\workspace\\images\\collectedimages\\mouse\\mouse (10).jpg -> Annotation:C:/tensorflow/TFODCourse-main/Tensorflow/workspace/images/collectedimages/mouse/mouse (10).xml\n"
     ]
    }
   ],
   "source": [
    "!cd {LABELIMG_PATH} && python labelImg.py"
   ]
  },
  {
   "cell_type": "markdown",
   "metadata": {},
   "source": [
    "# 6. Move them into a Training and Testing Partition"
   ]
  }
 ],
 "metadata": {
  "kernelspec": {
   "display_name": "tfod",
   "language": "python",
   "name": "tfod"
  },
  "language_info": {
   "codemirror_mode": {
    "name": "ipython",
    "version": 3
   },
   "file_extension": ".py",
   "mimetype": "text/x-python",
   "name": "python",
   "nbconvert_exporter": "python",
   "pygments_lexer": "ipython3",
   "version": "3.9.7"
  }
 },
 "nbformat": 4,
 "nbformat_minor": 2
}
